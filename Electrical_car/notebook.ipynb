{
 "cells": [
  {
   "cell_type": "code",
   "execution_count": 1,
   "id": "1b7d00fe",
   "metadata": {},
   "outputs": [
    {
     "name": "stdout",
     "output_type": "stream",
     "text": [
      "ok\n"
     ]
    }
   ],
   "source": [
    "print(\"ok\")"
   ]
  },
  {
   "cell_type": "markdown",
   "id": "a4cbca41",
   "metadata": {},
   "source": [
    "## System Overview\n",
    "- “Generate a strategic report on the electric vehicle (EV) market and its key players”\n",
    "and automatically do everything:\n",
    "- research → analyze → generate → output final report."
   ]
  },
  {
   "cell_type": "markdown",
   "id": "8145a6e9",
   "metadata": {},
   "source": [
    "## System Architecture\n",
    "\n",
    "```\n",
    "                 ┌──────────────────────────┐\n",
    "                 │  User Query Interface    │\n",
    "                 └────────────┬─────────────┘\n",
    "                              ▼\n",
    "                 ┌──────────────────────────┐\n",
    "                 │     Task Orchestrator    │ ← (delegates steps)\n",
    "                 └────────────┬─────────────┘\n",
    "        ┌─────────────────────┼──────────────────────┐\n",
    "        ▼                     ▼                      ▼\n",
    "┌─────────────┐      ┌────────────────┐     ┌────────────────────┐\n",
    "│ Data Fetcher│      │  NLP Analyzer  │     │ Report Generator   │\n",
    "│ (Web/API)   │      │  (Trends/Comp) │     │ (Formatted Output) │\n",
    "└─────────────┘      └────────────────┘     └────────────────────┘\n",
    "        ▼                                          ▼\n",
    "                       ┌────────────────────────┐\n",
    "                       │ PDF / HTML Final Report│\n",
    "                       └────────────────────────┘\n"
   ]
  },
  {
   "cell_type": "markdown",
   "id": "cf4ef9ec",
   "metadata": {},
   "source": [
    "```\n",
    "🛠 Tools/Stack Recommendation:\n",
    "\n",
    "Module\tTool/Library\n",
    "Web UI (optional)                    \tStreamlit / React\n",
    "Backend\t                                FastAPI / Flask\n",
    "Data Fetching\t                        SerpAPI / NewsAPI\n",
    "Analysis\t                            OpenAI / HuggingFace\n",
    "Agent Chain\t                            LangChain\n",
    "Report Formatting\t                    Jinja2 + WeasyPrint\n",
    "Output\t                                PDF/HTML"
   ]
  },
  {
   "cell_type": "code",
   "execution_count": 1,
   "id": "2ac508f2",
   "metadata": {},
   "outputs": [],
   "source": [
    "import os \n",
    "from dotenv import load_dotenv\n",
    "from langchain.llms import OpenAI"
   ]
  },
  {
   "cell_type": "code",
   "execution_count": 2,
   "id": "54c5d814",
   "metadata": {},
   "outputs": [],
   "source": [
    "load_dotenv()\n",
    "OPENAI_API_KEY = os.getenv('OPENAI_API_KEY')"
   ]
  },
  {
   "cell_type": "code",
   "execution_count": 3,
   "id": "ecefa484",
   "metadata": {},
   "outputs": [],
   "source": [
    "os.environ['OPENAI_API_KEY'] = OPENAI_API_KEY"
   ]
  },
  {
   "cell_type": "code",
   "execution_count": 4,
   "id": "a2e47890",
   "metadata": {},
   "outputs": [],
   "source": [
    "from langchain.document_loaders import PyPDFLoader"
   ]
  },
  {
   "cell_type": "code",
   "execution_count": 5,
   "id": "b6378d60",
   "metadata": {},
   "outputs": [
    {
     "data": {
      "text/plain": [
       "'f:\\\\ML for NLP\\\\Class\\\\Web scrapping task\\\\Electrical_car'"
      ]
     },
     "execution_count": 5,
     "metadata": {},
     "output_type": "execute_result"
    }
   ],
   "source": [
    "%pwd"
   ]
  },
  {
   "cell_type": "code",
   "execution_count": 9,
   "id": "e14baa14",
   "metadata": {},
   "outputs": [],
   "source": [
    "import PyPDF2\n",
    "\n",
    "# load dataset(pdf)\n",
    "file_path = \"ev_articles.pdf\"\n",
    "loader = PyPDFLoader(file_path)\n",
    "data = loader.load()"
   ]
  },
  {
   "cell_type": "code",
   "execution_count": 10,
   "id": "fcb72bcf",
   "metadata": {},
   "outputs": [
    {
     "name": "stdout",
     "output_type": "stream",
     "text": [
      "The Biggest Winners From Tesla's Sales Slump - Business Insider\n",
      "Date: None\n",
      "Tesla is losing ground at home and globallyas its sales continue a downward slide, ceding market\n",
      "share to automakers that have flooded the zone with new models in recent years.\n",
      "General Motors, Ford, and Volkswagen were some of the biggest winners in the US in the first\n",
      "quarter of 2025, during which the EV market grew by 11% to nearly 300,000 cars sold, according to\n",
      "first-quarter data from Cox Automotive.\n",
      "In Europe, homegr\n"
     ]
    }
   ],
   "source": [
    "print(data[0].page_content[:500])"
   ]
  },
  {
   "cell_type": "code",
   "execution_count": 12,
   "id": "a8485402",
   "metadata": {},
   "outputs": [
    {
     "data": {
      "text/plain": [
       "5"
      ]
     },
     "execution_count": 12,
     "metadata": {},
     "output_type": "execute_result"
    }
   ],
   "source": [
    "len(data)"
   ]
  },
  {
   "cell_type": "code",
   "execution_count": 13,
   "id": "0112d073",
   "metadata": {},
   "outputs": [],
   "source": [
    "# Extract all data one by one pages.\n",
    "question_gen = \"\"\n",
    "for page in data:\n",
    "    question_gen += page.page_content"
   ]
  },
  {
   "cell_type": "code",
   "execution_count": 14,
   "id": "bb984911",
   "metadata": {},
   "outputs": [
    {
     "data": {
      "text/plain": [
       "\"The Biggest Winners From Tesla's Sales Slump - Business Insider\\nDate: None\\nTesla is losing ground at home and globallyas its sales continue a downward slide, ceding market\\nshare to automakers that have flooded the zone with new models in recent years.\\nGeneral Motors, Ford, and Volkswagen were some of the biggest winners in the US in the first\\nquarter of 2025, during which the EV market grew by 11% to nearly 300,000 cars sold, according to\\nfirst-quarter data from Cox Automotive.\\nIn Europe, homegrown automakers such as BMW and VW have seen their electric vehicle\\nbusinesses skyrocket, while Chinese brands like BYD and Geely have also made a major push into\\nthe continent.\\nTesla sold 128,100 vehicles in the United States during the first quarter of the year, down 8.6% from\\nthe same time last year and a whopping 21% decline compared with 2023, Cox said.\\nDespite seeing its share of the US EV market fall from 51% to 44% over the past year, per the Cox\\ndata, Tesla remains the biggest player by a wide margin.\\nBut a group of traditional automakers, led by Ford and GM, has been staging an offensive against\\nTesla for years.\\nGM has launched roughly a dozen Cadillac-, Chevrolet-, and GMC-branded EVs over the past year,\\nranging from the$34,000 compact Chevy Equinox SUVto the $300,000-plus ultraluxuriousCadillac\\nCelestiq sedan. They've helped it gain an 11% market share after sales grew 94% year over year in\\nthe first quarter, according to Cox.\\nWhen you include Honda and Acura, which entered the EV market last spring with a pair of\\nGM-made SUVs, General Motors and its partners now hold 16% of the market, Cox said.\\nElsewhere, VW is up 55%, BMW is up 26%, Nissan is up 23%, and Ford, which owns about 8% of\\nthe segment, saw a 12% sales increase.\\nOther big winners include VW, with sales up 55% year over year; BMW, up 26%; Nissan, up 23%;\\nand Ford, which owns about 8% of the segment and saw a 12% sales increase, Cox said.\\nLower-volume players in the EV space also saw explosive growth. Porsche, Toyota, Subaru, andVolvo sales were up 250%, 196%, 173%, and 173%, respectively, year-over-year, Cox said.\\nIn Europe, Tesla's decline has been even more dramatic.\\nDuring the first two months of 2025, the automaker's sales collapsed nearly 43% from the same\\nperiod last year, according to industry data from the European Automobile Manufacturers'\\nAssociation amid agrowing backlash against CEO Elon Muskand his endorsement of the German\\nfar-right party Alternative for Germany.\\nTesla's fall comes despite overallEuropean electric car sales growing by nearly 30%over the same\\nperiod, a European Automobile Manufacturers' Association data analysis found ? and some of\\nTesla's German rivals appear to have benefited from its brand implosion.\\nVolkswagen said last week it had more than doubled its EV sales in Europe in the first quarter, while\\nthe luxury brand BMW reported a 64% rise in sales of fully electric vehicles.\\nThat poses a big problem for Tesla in the company's third-biggest market, where it sold about\\n327,000 electric cars last year ? and it could be about to get a lot worse.\\nThe Chinese automakers BYD, Xpeng, and Geely are expanding aggressively in Europe. While their\\nmarket share is still tiny, early data suggests that BYD is beginning to eat into Tesla's sales.\\nBYD outsold Tesla in Italy and Spain in the first quarter of 2025 and closed the gap on its rival in the\\nUK and Germany, according to data compiled by the market research firm Argus Media. They\\nrecorded huge surges in sales even asTesla's market share plunged.\\nThe Warren Buffett-backed Chinese EV giant exported a record number of cars in the first quarter\\nas it took its fight against Tesla global.\\nPolestar, Geely's Swedish EV brand, reported a 76% increase in global sales during the first quarter\\nof this year.\\nJump to\\nThe EV Revolution in 2025: A Comprehensive Look at Market Trends,\\nInnovations, and Challenges | Chargeasy\\nDate: 2024-08-16T14:12:00Patent Pending\\nIn 2025, the electric vehicle (EV) industry is at a pivotal moment, driven by groundbreaking\\nadvancements in solid-state batteries, the rapid expansion of charging infrastructure, and the\\nintegration of AI-powered autonomous driving. This year marks a significant shift towards\\nsustainable transportation, with global EV sales expected to soar, carbon emissions to drop, and\\nnew market opportunities emerging for businesses ready to lead the charge. Understanding these\\ntrends is crucial for executives aiming to stay competitive, capitalize on growth, and align with global\\nsustainability goals.\\n2025 is a game-changer for the electric vehicle (EV) industry. Here?s why:\\n2025 is a transformative year for the electric vehicle (EV) industry, and the changes happening now\\nwill have significant implications for your business. Whether you?re in automotive, energy,\\ntechnology, or finance, understanding these trends is crucial for strategic decision-making, staying\\ncompetitive, and capitalizing on new growth opportunities.\\nWhy It Matters:The EV revolution is reshaping transportation, reducing environmental impact, and\\naligning with global climate goals. 2025 is the year when electric mobility goes mainstream, driving\\nthe world closer to a sustainable future.\\nTake Action:\\nThe future is electric?don?t get left behind!\\nWhy It?s Critical:\\nBusiness Case:\\nWhy It?s Critical:\\nBusiness Case:\\nWhy It?s Critical:\\nBusiness Case:\\nTake Action: Don?t just watch the EV revolution?lead it. Make informed decisions, invest in\\nfuture-proof technologies, and position your company for success in a sustainable, electric future.\\nThe year 2025 stands as a defining moment in the electric vehicle (EV) industry, marking a period ofremarkable growth and transformation. As governments, automakers, and consumers worldwide\\nincreasingly recognize the urgency of addressing climate change, the shift towards electric mobility\\nhas accelerated like never before. By 2025, EVs are no longer a niche market but a central pillar of\\nthe global automotive industry, reflecting the industry?s evolution from early adoption to mainstream\\nacceptance. According toBloombergNEF, EV sales are expected to account for 25% of all new\\nvehicle sales globally by 2025, highlighting the significant strides the industry has made in just a few\\nyears.\\nThis article delves into the core themes that define the EV landscape in 2025. We will explore the\\ncutting-edgetechnological advancementsthat are propelling the industry forward, from breakthroughs\\nin battery technology to the expansion of ultra-fast charging networks. We?ll also address themarket\\nchallengesthat continue to shape the industry?s trajectory, including supply chain disruptions,\\nproduction bottlenecks, and the race to secure critical raw materials. Additionally, we?ll\\nexamineconsumer behavior, focusing on how shifting preferences and concerns are driving demand\\nfor EVs and influencing market dynamics. Finally, we?ll look ahead to thefuture outlook, speculating\\non what the next few years hold for the EV industry and how it aligns with global sustainability goals.\\nAs we navigate these themes, consider your role in this revolution. The choices we make\\ntoday?whether as consumers, policymakers, or industry leaders?will have a profound impact on the\\nfuture of transportation and the planet. How can you contribute to this transformative shift? What\\nsteps can you take to support the transition to sustainable mobility? As you read on, we invite you to\\nreflect on these questions and engage with the ongoing developments that are reshaping the world\\nof electric vehicles.\\nThe advancements in battery technology in 2025 have been a game-changer for the electric vehicle\\nindustry, with solid-state batteries at the forefront of this revolution. Solid-state batteries, known for\\ntheir higher energy density and safety compared to traditional lithium-ion batteries, have begun to\\nenter the market, promising to transform EV performance and cost dynamics. These batteries can\\noffer up to 50% more energy density, allowing for longer driving ranges and significantly shorter\\ncharging times. For example, companies likeQuantumScapeandSolid Powerhave made significantstrides in developing solid-state batteries, with QuantumScape?s latest prototypes demonstrating\\nthe potential to charge from 10% to 80% in just 15 minutes.\\nThe impact of these advancements on the EV industry is profound. With solid-state batteries\\nexpected to reduce the cost of EVs by eliminating the need for complex cooling systems and\\nincreasing battery longevity, the total cost of ownership for consumers is projected to decrease\\nsignificantly. According toBloombergNEF, these batteries could cut EV battery costs by nearly 40%\\nby 2030, making electric vehicles more accessible to a broader range of consumers.\\nThe growth of EV charging infrastructure has been just as crucial as advancements in battery\\ntechnology. In 2025, the global EV charging network has expanded rapidly, with t\""
      ]
     },
     "execution_count": 14,
     "metadata": {},
     "output_type": "execute_result"
    }
   ],
   "source": [
    "question_gen"
   ]
  },
  {
   "cell_type": "code",
   "execution_count": 16,
   "id": "0bd99e2b",
   "metadata": {},
   "outputs": [],
   "source": [
    "from langchain.text_splitter import TokenTextSplitter"
   ]
  },
  {
   "cell_type": "code",
   "execution_count": 18,
   "id": "f3af56b9",
   "metadata": {},
   "outputs": [],
   "source": [
    "# Split the question text into chunks\n",
    "splitter_question_gen = TokenTextSplitter(\n",
    "    model_name= \"gpt-3.5-turbo\",\n",
    "    chunk_size= 10000,\n",
    "    chunk_overlap = 200\n",
    ")\n",
    "\n",
    "chunk_ques_gen = splitter_question_gen.split_text(question_gen)"
   ]
  },
  {
   "cell_type": "code",
   "execution_count": 19,
   "id": "8c9359ce",
   "metadata": {},
   "outputs": [
    {
     "data": {
      "text/plain": [
       "[\"The Biggest Winners From Tesla's Sales Slump - Business Insider\\nDate: None\\nTesla is losing ground at home and globallyas its sales continue a downward slide, ceding market\\nshare to automakers that have flooded the zone with new models in recent years.\\nGeneral Motors, Ford, and Volkswagen were some of the biggest winners in the US in the first\\nquarter of 2025, during which the EV market grew by 11% to nearly 300,000 cars sold, according to\\nfirst-quarter data from Cox Automotive.\\nIn Europe, homegrown automakers such as BMW and VW have seen their electric vehicle\\nbusinesses skyrocket, while Chinese brands like BYD and Geely have also made a major push into\\nthe continent.\\nTesla sold 128,100 vehicles in the United States during the first quarter of the year, down 8.6% from\\nthe same time last year and a whopping 21% decline compared with 2023, Cox said.\\nDespite seeing its share of the US EV market fall from 51% to 44% over the past year, per the Cox\\ndata, Tesla remains the biggest player by a wide margin.\\nBut a group of traditional automakers, led by Ford and GM, has been staging an offensive against\\nTesla for years.\\nGM has launched roughly a dozen Cadillac-, Chevrolet-, and GMC-branded EVs over the past year,\\nranging from the$34,000 compact Chevy Equinox SUVto the $300,000-plus ultraluxuriousCadillac\\nCelestiq sedan. They've helped it gain an 11% market share after sales grew 94% year over year in\\nthe first quarter, according to Cox.\\nWhen you include Honda and Acura, which entered the EV market last spring with a pair of\\nGM-made SUVs, General Motors and its partners now hold 16% of the market, Cox said.\\nElsewhere, VW is up 55%, BMW is up 26%, Nissan is up 23%, and Ford, which owns about 8% of\\nthe segment, saw a 12% sales increase.\\nOther big winners include VW, with sales up 55% year over year; BMW, up 26%; Nissan, up 23%;\\nand Ford, which owns about 8% of the segment and saw a 12% sales increase, Cox said.\\nLower-volume players in the EV space also saw explosive growth. Porsche, Toyota, Subaru, andVolvo sales were up 250%, 196%, 173%, and 173%, respectively, year-over-year, Cox said.\\nIn Europe, Tesla's decline has been even more dramatic.\\nDuring the first two months of 2025, the automaker's sales collapsed nearly 43% from the same\\nperiod last year, according to industry data from the European Automobile Manufacturers'\\nAssociation amid agrowing backlash against CEO Elon Muskand his endorsement of the German\\nfar-right party Alternative for Germany.\\nTesla's fall comes despite overallEuropean electric car sales growing by nearly 30%over the same\\nperiod, a European Automobile Manufacturers' Association data analysis found ? and some of\\nTesla's German rivals appear to have benefited from its brand implosion.\\nVolkswagen said last week it had more than doubled its EV sales in Europe in the first quarter, while\\nthe luxury brand BMW reported a 64% rise in sales of fully electric vehicles.\\nThat poses a big problem for Tesla in the company's third-biggest market, where it sold about\\n327,000 electric cars last year ? and it could be about to get a lot worse.\\nThe Chinese automakers BYD, Xpeng, and Geely are expanding aggressively in Europe. While their\\nmarket share is still tiny, early data suggests that BYD is beginning to eat into Tesla's sales.\\nBYD outsold Tesla in Italy and Spain in the first quarter of 2025 and closed the gap on its rival in the\\nUK and Germany, according to data compiled by the market research firm Argus Media. They\\nrecorded huge surges in sales even asTesla's market share plunged.\\nThe Warren Buffett-backed Chinese EV giant exported a record number of cars in the first quarter\\nas it took its fight against Tesla global.\\nPolestar, Geely's Swedish EV brand, reported a 76% increase in global sales during the first quarter\\nof this year.\\nJump to\\nThe EV Revolution in 2025: A Comprehensive Look at Market Trends,\\nInnovations, and Challenges | Chargeasy\\nDate: 2024-08-16T14:12:00Patent Pending\\nIn 2025, the electric vehicle (EV) industry is at a pivotal moment, driven by groundbreaking\\nadvancements in solid-state batteries, the rapid expansion of charging infrastructure, and the\\nintegration of AI-powered autonomous driving. This year marks a significant shift towards\\nsustainable transportation, with global EV sales expected to soar, carbon emissions to drop, and\\nnew market opportunities emerging for businesses ready to lead the charge. Understanding these\\ntrends is crucial for executives aiming to stay competitive, capitalize on growth, and align with global\\nsustainability goals.\\n2025 is a game-changer for the electric vehicle (EV) industry. Here?s why:\\n2025 is a transformative year for the electric vehicle (EV) industry, and the changes happening now\\nwill have significant implications for your business. Whether you?re in automotive, energy,\\ntechnology, or finance, understanding these trends is crucial for strategic decision-making, staying\\ncompetitive, and capitalizing on new growth opportunities.\\nWhy It Matters:The EV revolution is reshaping transportation, reducing environmental impact, and\\naligning with global climate goals. 2025 is the year when electric mobility goes mainstream, driving\\nthe world closer to a sustainable future.\\nTake Action:\\nThe future is electric?don?t get left behind!\\nWhy It?s Critical:\\nBusiness Case:\\nWhy It?s Critical:\\nBusiness Case:\\nWhy It?s Critical:\\nBusiness Case:\\nTake Action: Don?t just watch the EV revolution?lead it. Make informed decisions, invest in\\nfuture-proof technologies, and position your company for success in a sustainable, electric future.\\nThe year 2025 stands as a defining moment in the electric vehicle (EV) industry, marking a period ofremarkable growth and transformation. As governments, automakers, and consumers worldwide\\nincreasingly recognize the urgency of addressing climate change, the shift towards electric mobility\\nhas accelerated like never before. By 2025, EVs are no longer a niche market but a central pillar of\\nthe global automotive industry, reflecting the industry?s evolution from early adoption to mainstream\\nacceptance. According toBloombergNEF, EV sales are expected to account for 25% of all new\\nvehicle sales globally by 2025, highlighting the significant strides the industry has made in just a few\\nyears.\\nThis article delves into the core themes that define the EV landscape in 2025. We will explore the\\ncutting-edgetechnological advancementsthat are propelling the industry forward, from breakthroughs\\nin battery technology to the expansion of ultra-fast charging networks. We?ll also address themarket\\nchallengesthat continue to shape the industry?s trajectory, including supply chain disruptions,\\nproduction bottlenecks, and the race to secure critical raw materials. Additionally, we?ll\\nexamineconsumer behavior, focusing on how shifting preferences and concerns are driving demand\\nfor EVs and influencing market dynamics. Finally, we?ll look ahead to thefuture outlook, speculating\\non what the next few years hold for the EV industry and how it aligns with global sustainability goals.\\nAs we navigate these themes, consider your role in this revolution. The choices we make\\ntoday?whether as consumers, policymakers, or industry leaders?will have a profound impact on the\\nfuture of transportation and the planet. How can you contribute to this transformative shift? What\\nsteps can you take to support the transition to sustainable mobility? As you read on, we invite you to\\nreflect on these questions and engage with the ongoing developments that are reshaping the world\\nof electric vehicles.\\nThe advancements in battery technology in 2025 have been a game-changer for the electric vehicle\\nindustry, with solid-state batteries at the forefront of this revolution. Solid-state batteries, known for\\ntheir higher energy density and safety compared to traditional lithium-ion batteries, have begun to\\nenter the market, promising to transform EV performance and cost dynamics. These batteries can\\noffer up to 50% more energy density, allowing for longer driving ranges and significantly shorter\\ncharging times. For example, companies likeQuantumScapeandSolid Powerhave made significantstrides in developing solid-state batteries, with QuantumScape?s latest prototypes demonstrating\\nthe potential to charge from 10% to 80% in just 15 minutes.\\nThe impact of these advancements on the EV industry is profound. With solid-state batteries\\nexpected to reduce the cost of EVs by eliminating the need for complex cooling systems and\\nincreasing battery longevity, the total cost of ownership for consumers is projected to decrease\\nsignificantly. According toBloombergNEF, these batteries could cut EV battery costs by nearly 40%\\nby 2030, making electric vehicles more accessible to a broader range of consumers.\\nThe growth of EV charging infrastructure has been just as crucial as advancements in battery\\ntechnology. In 2025, the global EV charging network has expanded rapidly, with t\"]"
      ]
     },
     "execution_count": 19,
     "metadata": {},
     "output_type": "execute_result"
    }
   ],
   "source": [
    "chunk_ques_gen"
   ]
  },
  {
   "cell_type": "code",
   "execution_count": 20,
   "id": "8be57e64",
   "metadata": {},
   "outputs": [
    {
     "data": {
      "text/plain": [
       "1"
      ]
     },
     "execution_count": 20,
     "metadata": {},
     "output_type": "execute_result"
    }
   ],
   "source": [
    "len(chunk_ques_gen)"
   ]
  },
  {
   "cell_type": "code",
   "execution_count": 21,
   "id": "bd860bf7",
   "metadata": {},
   "outputs": [
    {
     "data": {
      "text/plain": [
       "list"
      ]
     },
     "execution_count": 21,
     "metadata": {},
     "output_type": "execute_result"
    }
   ],
   "source": [
    "type(chunk_ques_gen)"
   ]
  },
  {
   "cell_type": "code",
   "execution_count": 22,
   "id": "60de8f6e",
   "metadata": {},
   "outputs": [
    {
     "name": "stdout",
     "output_type": "stream",
     "text": [
      "<class 'str'>\n"
     ]
    }
   ],
   "source": [
    "text_data = chunk_ques_gen[0]  # first chunk\n",
    "print(type(text_data)) "
   ]
  },
  {
   "cell_type": "code",
   "execution_count": 23,
   "id": "0dbbc2bc",
   "metadata": {},
   "outputs": [],
   "source": [
    "from langchain.docstore.document import Document"
   ]
  },
  {
   "cell_type": "code",
   "execution_count": 24,
   "id": "3fe8f032",
   "metadata": {},
   "outputs": [],
   "source": [
    "# Convert each chunk into a Document\n",
    "document_ques_gen = [Document(page_content=t) for t in chunk_ques_gen]"
   ]
  },
  {
   "cell_type": "code",
   "execution_count": 25,
   "id": "1feb6f9d",
   "metadata": {},
   "outputs": [
    {
     "data": {
      "text/plain": [
       "[Document(metadata={}, page_content=\"The Biggest Winners From Tesla's Sales Slump - Business Insider\\nDate: None\\nTesla is losing ground at home and globallyas its sales continue a downward slide, ceding market\\nshare to automakers that have flooded the zone with new models in recent years.\\nGeneral Motors, Ford, and Volkswagen were some of the biggest winners in the US in the first\\nquarter of 2025, during which the EV market grew by 11% to nearly 300,000 cars sold, according to\\nfirst-quarter data from Cox Automotive.\\nIn Europe, homegrown automakers such as BMW and VW have seen their electric vehicle\\nbusinesses skyrocket, while Chinese brands like BYD and Geely have also made a major push into\\nthe continent.\\nTesla sold 128,100 vehicles in the United States during the first quarter of the year, down 8.6% from\\nthe same time last year and a whopping 21% decline compared with 2023, Cox said.\\nDespite seeing its share of the US EV market fall from 51% to 44% over the past year, per the Cox\\ndata, Tesla remains the biggest player by a wide margin.\\nBut a group of traditional automakers, led by Ford and GM, has been staging an offensive against\\nTesla for years.\\nGM has launched roughly a dozen Cadillac-, Chevrolet-, and GMC-branded EVs over the past year,\\nranging from the$34,000 compact Chevy Equinox SUVto the $300,000-plus ultraluxuriousCadillac\\nCelestiq sedan. They've helped it gain an 11% market share after sales grew 94% year over year in\\nthe first quarter, according to Cox.\\nWhen you include Honda and Acura, which entered the EV market last spring with a pair of\\nGM-made SUVs, General Motors and its partners now hold 16% of the market, Cox said.\\nElsewhere, VW is up 55%, BMW is up 26%, Nissan is up 23%, and Ford, which owns about 8% of\\nthe segment, saw a 12% sales increase.\\nOther big winners include VW, with sales up 55% year over year; BMW, up 26%; Nissan, up 23%;\\nand Ford, which owns about 8% of the segment and saw a 12% sales increase, Cox said.\\nLower-volume players in the EV space also saw explosive growth. Porsche, Toyota, Subaru, andVolvo sales were up 250%, 196%, 173%, and 173%, respectively, year-over-year, Cox said.\\nIn Europe, Tesla's decline has been even more dramatic.\\nDuring the first two months of 2025, the automaker's sales collapsed nearly 43% from the same\\nperiod last year, according to industry data from the European Automobile Manufacturers'\\nAssociation amid agrowing backlash against CEO Elon Muskand his endorsement of the German\\nfar-right party Alternative for Germany.\\nTesla's fall comes despite overallEuropean electric car sales growing by nearly 30%over the same\\nperiod, a European Automobile Manufacturers' Association data analysis found ? and some of\\nTesla's German rivals appear to have benefited from its brand implosion.\\nVolkswagen said last week it had more than doubled its EV sales in Europe in the first quarter, while\\nthe luxury brand BMW reported a 64% rise in sales of fully electric vehicles.\\nThat poses a big problem for Tesla in the company's third-biggest market, where it sold about\\n327,000 electric cars last year ? and it could be about to get a lot worse.\\nThe Chinese automakers BYD, Xpeng, and Geely are expanding aggressively in Europe. While their\\nmarket share is still tiny, early data suggests that BYD is beginning to eat into Tesla's sales.\\nBYD outsold Tesla in Italy and Spain in the first quarter of 2025 and closed the gap on its rival in the\\nUK and Germany, according to data compiled by the market research firm Argus Media. They\\nrecorded huge surges in sales even asTesla's market share plunged.\\nThe Warren Buffett-backed Chinese EV giant exported a record number of cars in the first quarter\\nas it took its fight against Tesla global.\\nPolestar, Geely's Swedish EV brand, reported a 76% increase in global sales during the first quarter\\nof this year.\\nJump to\\nThe EV Revolution in 2025: A Comprehensive Look at Market Trends,\\nInnovations, and Challenges | Chargeasy\\nDate: 2024-08-16T14:12:00Patent Pending\\nIn 2025, the electric vehicle (EV) industry is at a pivotal moment, driven by groundbreaking\\nadvancements in solid-state batteries, the rapid expansion of charging infrastructure, and the\\nintegration of AI-powered autonomous driving. This year marks a significant shift towards\\nsustainable transportation, with global EV sales expected to soar, carbon emissions to drop, and\\nnew market opportunities emerging for businesses ready to lead the charge. Understanding these\\ntrends is crucial for executives aiming to stay competitive, capitalize on growth, and align with global\\nsustainability goals.\\n2025 is a game-changer for the electric vehicle (EV) industry. Here?s why:\\n2025 is a transformative year for the electric vehicle (EV) industry, and the changes happening now\\nwill have significant implications for your business. Whether you?re in automotive, energy,\\ntechnology, or finance, understanding these trends is crucial for strategic decision-making, staying\\ncompetitive, and capitalizing on new growth opportunities.\\nWhy It Matters:The EV revolution is reshaping transportation, reducing environmental impact, and\\naligning with global climate goals. 2025 is the year when electric mobility goes mainstream, driving\\nthe world closer to a sustainable future.\\nTake Action:\\nThe future is electric?don?t get left behind!\\nWhy It?s Critical:\\nBusiness Case:\\nWhy It?s Critical:\\nBusiness Case:\\nWhy It?s Critical:\\nBusiness Case:\\nTake Action: Don?t just watch the EV revolution?lead it. Make informed decisions, invest in\\nfuture-proof technologies, and position your company for success in a sustainable, electric future.\\nThe year 2025 stands as a defining moment in the electric vehicle (EV) industry, marking a period ofremarkable growth and transformation. As governments, automakers, and consumers worldwide\\nincreasingly recognize the urgency of addressing climate change, the shift towards electric mobility\\nhas accelerated like never before. By 2025, EVs are no longer a niche market but a central pillar of\\nthe global automotive industry, reflecting the industry?s evolution from early adoption to mainstream\\nacceptance. According toBloombergNEF, EV sales are expected to account for 25% of all new\\nvehicle sales globally by 2025, highlighting the significant strides the industry has made in just a few\\nyears.\\nThis article delves into the core themes that define the EV landscape in 2025. We will explore the\\ncutting-edgetechnological advancementsthat are propelling the industry forward, from breakthroughs\\nin battery technology to the expansion of ultra-fast charging networks. We?ll also address themarket\\nchallengesthat continue to shape the industry?s trajectory, including supply chain disruptions,\\nproduction bottlenecks, and the race to secure critical raw materials. Additionally, we?ll\\nexamineconsumer behavior, focusing on how shifting preferences and concerns are driving demand\\nfor EVs and influencing market dynamics. Finally, we?ll look ahead to thefuture outlook, speculating\\non what the next few years hold for the EV industry and how it aligns with global sustainability goals.\\nAs we navigate these themes, consider your role in this revolution. The choices we make\\ntoday?whether as consumers, policymakers, or industry leaders?will have a profound impact on the\\nfuture of transportation and the planet. How can you contribute to this transformative shift? What\\nsteps can you take to support the transition to sustainable mobility? As you read on, we invite you to\\nreflect on these questions and engage with the ongoing developments that are reshaping the world\\nof electric vehicles.\\nThe advancements in battery technology in 2025 have been a game-changer for the electric vehicle\\nindustry, with solid-state batteries at the forefront of this revolution. Solid-state batteries, known for\\ntheir higher energy density and safety compared to traditional lithium-ion batteries, have begun to\\nenter the market, promising to transform EV performance and cost dynamics. These batteries can\\noffer up to 50% more energy density, allowing for longer driving ranges and significantly shorter\\ncharging times. For example, companies likeQuantumScapeandSolid Powerhave made significantstrides in developing solid-state batteries, with QuantumScape?s latest prototypes demonstrating\\nthe potential to charge from 10% to 80% in just 15 minutes.\\nThe impact of these advancements on the EV industry is profound. With solid-state batteries\\nexpected to reduce the cost of EVs by eliminating the need for complex cooling systems and\\nincreasing battery longevity, the total cost of ownership for consumers is projected to decrease\\nsignificantly. According toBloombergNEF, these batteries could cut EV battery costs by nearly 40%\\nby 2030, making electric vehicles more accessible to a broader range of consumers.\\nThe growth of EV charging infrastructure has been just as crucial as advancements in battery\\ntechnology. In 2025, the global EV charging network has expanded rapidly, with t\")]"
      ]
     },
     "execution_count": 25,
     "metadata": {},
     "output_type": "execute_result"
    }
   ],
   "source": [
    "document_ques_gen"
   ]
  },
  {
   "cell_type": "code",
   "execution_count": 26,
   "id": "0251d34b",
   "metadata": {},
   "outputs": [
    {
     "data": {
      "text/plain": [
       "langchain_core.documents.base.Document"
      ]
     },
     "execution_count": 26,
     "metadata": {},
     "output_type": "execute_result"
    }
   ],
   "source": [
    "type(document_ques_gen[0])"
   ]
  },
  {
   "cell_type": "code",
   "execution_count": 27,
   "id": "03eab85d",
   "metadata": {},
   "outputs": [],
   "source": [
    "# Split the documents for answer generation\n",
    "splitter_ans_gen = TokenTextSplitter(\n",
    "    model_name=\"gpt-3.5-turbo\",\n",
    "    chunk_size=1000,\n",
    "    chunk_overlap=100\n",
    ")\n",
    "\n",
    "document_answer_gen = splitter_ans_gen.split_documents(document_ques_gen)"
   ]
  },
  {
   "cell_type": "code",
   "execution_count": 28,
   "id": "7aebe5a1",
   "metadata": {},
   "outputs": [
    {
     "data": {
      "text/plain": [
       "[Document(metadata={}, page_content=\"The Biggest Winners From Tesla's Sales Slump - Business Insider\\nDate: None\\nTesla is losing ground at home and globallyas its sales continue a downward slide, ceding market\\nshare to automakers that have flooded the zone with new models in recent years.\\nGeneral Motors, Ford, and Volkswagen were some of the biggest winners in the US in the first\\nquarter of 2025, during which the EV market grew by 11% to nearly 300,000 cars sold, according to\\nfirst-quarter data from Cox Automotive.\\nIn Europe, homegrown automakers such as BMW and VW have seen their electric vehicle\\nbusinesses skyrocket, while Chinese brands like BYD and Geely have also made a major push into\\nthe continent.\\nTesla sold 128,100 vehicles in the United States during the first quarter of the year, down 8.6% from\\nthe same time last year and a whopping 21% decline compared with 2023, Cox said.\\nDespite seeing its share of the US EV market fall from 51% to 44% over the past year, per the Cox\\ndata, Tesla remains the biggest player by a wide margin.\\nBut a group of traditional automakers, led by Ford and GM, has been staging an offensive against\\nTesla for years.\\nGM has launched roughly a dozen Cadillac-, Chevrolet-, and GMC-branded EVs over the past year,\\nranging from the$34,000 compact Chevy Equinox SUVto the $300,000-plus ultraluxuriousCadillac\\nCelestiq sedan. They've helped it gain an 11% market share after sales grew 94% year over year in\\nthe first quarter, according to Cox.\\nWhen you include Honda and Acura, which entered the EV market last spring with a pair of\\nGM-made SUVs, General Motors and its partners now hold 16% of the market, Cox said.\\nElsewhere, VW is up 55%, BMW is up 26%, Nissan is up 23%, and Ford, which owns about 8% of\\nthe segment, saw a 12% sales increase.\\nOther big winners include VW, with sales up 55% year over year; BMW, up 26%; Nissan, up 23%;\\nand Ford, which owns about 8% of the segment and saw a 12% sales increase, Cox said.\\nLower-volume players in the EV space also saw explosive growth. Porsche, Toyota, Subaru, andVolvo sales were up 250%, 196%, 173%, and 173%, respectively, year-over-year, Cox said.\\nIn Europe, Tesla's decline has been even more dramatic.\\nDuring the first two months of 2025, the automaker's sales collapsed nearly 43% from the same\\nperiod last year, according to industry data from the European Automobile Manufacturers'\\nAssociation amid agrowing backlash against CEO Elon Muskand his endorsement of the German\\nfar-right party Alternative for Germany.\\nTesla's fall comes despite overallEuropean electric car sales growing by nearly 30%over the same\\nperiod, a European Automobile Manufacturers' Association data analysis found ? and some of\\nTesla's German rivals appear to have benefited from its brand implosion.\\nVolkswagen said last week it had more than doubled its EV sales in Europe in the first quarter, while\\nthe luxury brand BMW reported a 64% rise in sales of fully electric vehicles.\\nThat poses a big problem for Tesla in the company's third-biggest market, where it sold about\\n327,000 electric cars last year ? and it could be about to get a lot worse.\\nThe Chinese automakers BYD, Xpeng, and Geely are expanding aggressively in Europe. While their\\nmarket share is still tiny, early data suggests that BYD is beginning to eat into Tesla's sales.\\nBYD outsold Tesla in Italy and Spain in the first quarter of 2025 and closed the gap on its rival in the\\nUK and Germany, according to data compiled by the market research firm Argus Media. They\\nrecorded huge surges in sales even asTesla's market share plunged.\\nThe Warren Buffett-backed Chinese EV giant exported a record number of cars in the first quarter\\nas it took its fight against Tesla global.\\nPolestar, Geely's Swedish EV brand, reported a 76% increase in global sales during the first quarter\\nof this year.\\nJump to\\nThe EV Revolution in 2025: A Comprehensive Look at Market Trends,\\nInnovations, and Challenges | Chargeasy\\nDate: 2024-08-16T14:12:00Patent Pending\\nIn 2025, the electric vehicle (EV) industry is at a pivotal moment, driven by groundbreaking\\nadvancements in solid-state batteries, the rapid expansion of charging infrastructure, and the\\nintegration of AI-powered autonomous driving. This year marks a significant shift towards\\nsustainable transportation, with global EV sales\"),\n",
       " Document(metadata={}, page_content='5: A Comprehensive Look at Market Trends,\\nInnovations, and Challenges | Chargeasy\\nDate: 2024-08-16T14:12:00Patent Pending\\nIn 2025, the electric vehicle (EV) industry is at a pivotal moment, driven by groundbreaking\\nadvancements in solid-state batteries, the rapid expansion of charging infrastructure, and the\\nintegration of AI-powered autonomous driving. This year marks a significant shift towards\\nsustainable transportation, with global EV sales expected to soar, carbon emissions to drop, and\\nnew market opportunities emerging for businesses ready to lead the charge. Understanding these\\ntrends is crucial for executives aiming to stay competitive, capitalize on growth, and align with global\\nsustainability goals.\\n2025 is a game-changer for the electric vehicle (EV) industry. Here?s why:\\n2025 is a transformative year for the electric vehicle (EV) industry, and the changes happening now\\nwill have significant implications for your business. Whether you?re in automotive, energy,\\ntechnology, or finance, understanding these trends is crucial for strategic decision-making, staying\\ncompetitive, and capitalizing on new growth opportunities.\\nWhy It Matters:The EV revolution is reshaping transportation, reducing environmental impact, and\\naligning with global climate goals. 2025 is the year when electric mobility goes mainstream, driving\\nthe world closer to a sustainable future.\\nTake Action:\\nThe future is electric?don?t get left behind!\\nWhy It?s Critical:\\nBusiness Case:\\nWhy It?s Critical:\\nBusiness Case:\\nWhy It?s Critical:\\nBusiness Case:\\nTake Action: Don?t just watch the EV revolution?lead it. Make informed decisions, invest in\\nfuture-proof technologies, and position your company for success in a sustainable, electric future.\\nThe year 2025 stands as a defining moment in the electric vehicle (EV) industry, marking a period ofremarkable growth and transformation. As governments, automakers, and consumers worldwide\\nincreasingly recognize the urgency of addressing climate change, the shift towards electric mobility\\nhas accelerated like never before. By 2025, EVs are no longer a niche market but a central pillar of\\nthe global automotive industry, reflecting the industry?s evolution from early adoption to mainstream\\nacceptance. According toBloombergNEF, EV sales are expected to account for 25% of all new\\nvehicle sales globally by 2025, highlighting the significant strides the industry has made in just a few\\nyears.\\nThis article delves into the core themes that define the EV landscape in 2025. We will explore the\\ncutting-edgetechnological advancementsthat are propelling the industry forward, from breakthroughs\\nin battery technology to the expansion of ultra-fast charging networks. We?ll also address themarket\\nchallengesthat continue to shape the industry?s trajectory, including supply chain disruptions,\\nproduction bottlenecks, and the race to secure critical raw materials. Additionally, we?ll\\nexamineconsumer behavior, focusing on how shifting preferences and concerns are driving demand\\nfor EVs and influencing market dynamics. Finally, we?ll look ahead to thefuture outlook, speculating\\non what the next few years hold for the EV industry and how it aligns with global sustainability goals.\\nAs we navigate these themes, consider your role in this revolution. The choices we make\\ntoday?whether as consumers, policymakers, or industry leaders?will have a profound impact on the\\nfuture of transportation and the planet. How can you contribute to this transformative shift? What\\nsteps can you take to support the transition to sustainable mobility? As you read on, we invite you to\\nreflect on these questions and engage with the ongoing developments that are reshaping the world\\nof electric vehicles.\\nThe advancements in battery technology in 2025 have been a game-changer for the electric vehicle\\nindustry, with solid-state batteries at the forefront of this revolution. Solid-state batteries, known for\\ntheir higher energy density and safety compared to traditional lithium-ion batteries, have begun to\\nenter the market, promising to transform EV performance and cost dynamics. These batteries can\\noffer up to 50% more energy density, allowing for longer driving ranges and significantly shorter\\ncharging times. For example, companies likeQuantumScapeandSolid Powerhave made significantstrides in developing solid-state batteries, with QuantumScape?s latest prototypes demonstrating\\nthe potential to charge from 10% to 80% in just 15 minutes.\\nThe impact of these advancements on the EV industry is profound. With solid-state batteries\\nexpected to reduce the cost of EVs by eliminating the need for complex cooling systems and\\nincreasing battery longevity, the total cost of ownership for consumers is projected to decrease\\nsignificantly. According toBloombergNEF, these batteries could cut EV battery costs by nearly 40%\\nby 2030, making electric vehicles more accessible to a broader range of consumers.\\nThe growth'),\n",
       " Document(metadata={}, page_content='% in just 15 minutes.\\nThe impact of these advancements on the EV industry is profound. With solid-state batteries\\nexpected to reduce the cost of EVs by eliminating the need for complex cooling systems and\\nincreasing battery longevity, the total cost of ownership for consumers is projected to decrease\\nsignificantly. According toBloombergNEF, these batteries could cut EV battery costs by nearly 40%\\nby 2030, making electric vehicles more accessible to a broader range of consumers.\\nThe growth of EV charging infrastructure has been just as crucial as advancements in battery\\ntechnology. In 2025, the global EV charging network has expanded rapidly, with t')]"
      ]
     },
     "execution_count": 28,
     "metadata": {},
     "output_type": "execute_result"
    }
   ],
   "source": [
    "document_answer_gen"
   ]
  },
  {
   "cell_type": "code",
   "execution_count": 29,
   "id": "068d1ce7",
   "metadata": {},
   "outputs": [
    {
     "data": {
      "text/plain": [
       "3"
      ]
     },
     "execution_count": 29,
     "metadata": {},
     "output_type": "execute_result"
    }
   ],
   "source": [
    "len(document_answer_gen)"
   ]
  },
  {
   "cell_type": "code",
   "execution_count": 30,
   "id": "e963d9e0",
   "metadata": {},
   "outputs": [],
   "source": [
    "\n",
    "from langchain.chat_models import ChatOpenAI"
   ]
  },
  {
   "cell_type": "code",
   "execution_count": 31,
   "id": "adc20c76",
   "metadata": {},
   "outputs": [
    {
     "name": "stderr",
     "output_type": "stream",
     "text": [
      "C:\\Users\\User\\AppData\\Local\\Temp\\ipykernel_13328\\72101767.py:2: LangChainDeprecationWarning: The class `ChatOpenAI` was deprecated in LangChain 0.0.10 and will be removed in 1.0. An updated version of the class exists in the :class:`~langchain-openai package and should be used instead. To use it run `pip install -U :class:`~langchain-openai` and import as `from :class:`~langchain_openai import ChatOpenAI``.\n",
      "  llm_ques_gen_pipeline = ChatOpenAI(\n"
     ]
    }
   ],
   "source": [
    "# Set up LLM pipeline for question generation\n",
    "llm_ques_gen_pipeline = ChatOpenAI(\n",
    "    model='gpt-3.5-turbo',\n",
    "    temperature=0.3\n",
    ")"
   ]
  },
  {
   "cell_type": "code",
   "execution_count": 32,
   "id": "a451af60",
   "metadata": {},
   "outputs": [],
   "source": [
    "splitter_ans_gen = TokenTextSplitter(\n",
    "    model_name = 'gpt-3.5-turbo',\n",
    "    chunk_size = 1000,\n",
    "    chunk_overlap = 100\n",
    ")"
   ]
  },
  {
   "cell_type": "code",
   "execution_count": 33,
   "id": "8d11433e",
   "metadata": {},
   "outputs": [],
   "source": [
    "document_answer_gen = splitter_ans_gen.split_documents(\n",
    "    document_ques_gen\n",
    ")"
   ]
  },
  {
   "cell_type": "code",
   "execution_count": 34,
   "id": "e0fce53b",
   "metadata": {},
   "outputs": [
    {
     "data": {
      "text/plain": [
       "[Document(metadata={}, page_content=\"The Biggest Winners From Tesla's Sales Slump - Business Insider\\nDate: None\\nTesla is losing ground at home and globallyas its sales continue a downward slide, ceding market\\nshare to automakers that have flooded the zone with new models in recent years.\\nGeneral Motors, Ford, and Volkswagen were some of the biggest winners in the US in the first\\nquarter of 2025, during which the EV market grew by 11% to nearly 300,000 cars sold, according to\\nfirst-quarter data from Cox Automotive.\\nIn Europe, homegrown automakers such as BMW and VW have seen their electric vehicle\\nbusinesses skyrocket, while Chinese brands like BYD and Geely have also made a major push into\\nthe continent.\\nTesla sold 128,100 vehicles in the United States during the first quarter of the year, down 8.6% from\\nthe same time last year and a whopping 21% decline compared with 2023, Cox said.\\nDespite seeing its share of the US EV market fall from 51% to 44% over the past year, per the Cox\\ndata, Tesla remains the biggest player by a wide margin.\\nBut a group of traditional automakers, led by Ford and GM, has been staging an offensive against\\nTesla for years.\\nGM has launched roughly a dozen Cadillac-, Chevrolet-, and GMC-branded EVs over the past year,\\nranging from the$34,000 compact Chevy Equinox SUVto the $300,000-plus ultraluxuriousCadillac\\nCelestiq sedan. They've helped it gain an 11% market share after sales grew 94% year over year in\\nthe first quarter, according to Cox.\\nWhen you include Honda and Acura, which entered the EV market last spring with a pair of\\nGM-made SUVs, General Motors and its partners now hold 16% of the market, Cox said.\\nElsewhere, VW is up 55%, BMW is up 26%, Nissan is up 23%, and Ford, which owns about 8% of\\nthe segment, saw a 12% sales increase.\\nOther big winners include VW, with sales up 55% year over year; BMW, up 26%; Nissan, up 23%;\\nand Ford, which owns about 8% of the segment and saw a 12% sales increase, Cox said.\\nLower-volume players in the EV space also saw explosive growth. Porsche, Toyota, Subaru, andVolvo sales were up 250%, 196%, 173%, and 173%, respectively, year-over-year, Cox said.\\nIn Europe, Tesla's decline has been even more dramatic.\\nDuring the first two months of 2025, the automaker's sales collapsed nearly 43% from the same\\nperiod last year, according to industry data from the European Automobile Manufacturers'\\nAssociation amid agrowing backlash against CEO Elon Muskand his endorsement of the German\\nfar-right party Alternative for Germany.\\nTesla's fall comes despite overallEuropean electric car sales growing by nearly 30%over the same\\nperiod, a European Automobile Manufacturers' Association data analysis found ? and some of\\nTesla's German rivals appear to have benefited from its brand implosion.\\nVolkswagen said last week it had more than doubled its EV sales in Europe in the first quarter, while\\nthe luxury brand BMW reported a 64% rise in sales of fully electric vehicles.\\nThat poses a big problem for Tesla in the company's third-biggest market, where it sold about\\n327,000 electric cars last year ? and it could be about to get a lot worse.\\nThe Chinese automakers BYD, Xpeng, and Geely are expanding aggressively in Europe. While their\\nmarket share is still tiny, early data suggests that BYD is beginning to eat into Tesla's sales.\\nBYD outsold Tesla in Italy and Spain in the first quarter of 2025 and closed the gap on its rival in the\\nUK and Germany, according to data compiled by the market research firm Argus Media. They\\nrecorded huge surges in sales even asTesla's market share plunged.\\nThe Warren Buffett-backed Chinese EV giant exported a record number of cars in the first quarter\\nas it took its fight against Tesla global.\\nPolestar, Geely's Swedish EV brand, reported a 76% increase in global sales during the first quarter\\nof this year.\\nJump to\\nThe EV Revolution in 2025: A Comprehensive Look at Market Trends,\\nInnovations, and Challenges | Chargeasy\\nDate: 2024-08-16T14:12:00Patent Pending\\nIn 2025, the electric vehicle (EV) industry is at a pivotal moment, driven by groundbreaking\\nadvancements in solid-state batteries, the rapid expansion of charging infrastructure, and the\\nintegration of AI-powered autonomous driving. This year marks a significant shift towards\\nsustainable transportation, with global EV sales\"),\n",
       " Document(metadata={}, page_content='5: A Comprehensive Look at Market Trends,\\nInnovations, and Challenges | Chargeasy\\nDate: 2024-08-16T14:12:00Patent Pending\\nIn 2025, the electric vehicle (EV) industry is at a pivotal moment, driven by groundbreaking\\nadvancements in solid-state batteries, the rapid expansion of charging infrastructure, and the\\nintegration of AI-powered autonomous driving. This year marks a significant shift towards\\nsustainable transportation, with global EV sales expected to soar, carbon emissions to drop, and\\nnew market opportunities emerging for businesses ready to lead the charge. Understanding these\\ntrends is crucial for executives aiming to stay competitive, capitalize on growth, and align with global\\nsustainability goals.\\n2025 is a game-changer for the electric vehicle (EV) industry. Here?s why:\\n2025 is a transformative year for the electric vehicle (EV) industry, and the changes happening now\\nwill have significant implications for your business. Whether you?re in automotive, energy,\\ntechnology, or finance, understanding these trends is crucial for strategic decision-making, staying\\ncompetitive, and capitalizing on new growth opportunities.\\nWhy It Matters:The EV revolution is reshaping transportation, reducing environmental impact, and\\naligning with global climate goals. 2025 is the year when electric mobility goes mainstream, driving\\nthe world closer to a sustainable future.\\nTake Action:\\nThe future is electric?don?t get left behind!\\nWhy It?s Critical:\\nBusiness Case:\\nWhy It?s Critical:\\nBusiness Case:\\nWhy It?s Critical:\\nBusiness Case:\\nTake Action: Don?t just watch the EV revolution?lead it. Make informed decisions, invest in\\nfuture-proof technologies, and position your company for success in a sustainable, electric future.\\nThe year 2025 stands as a defining moment in the electric vehicle (EV) industry, marking a period ofremarkable growth and transformation. As governments, automakers, and consumers worldwide\\nincreasingly recognize the urgency of addressing climate change, the shift towards electric mobility\\nhas accelerated like never before. By 2025, EVs are no longer a niche market but a central pillar of\\nthe global automotive industry, reflecting the industry?s evolution from early adoption to mainstream\\nacceptance. According toBloombergNEF, EV sales are expected to account for 25% of all new\\nvehicle sales globally by 2025, highlighting the significant strides the industry has made in just a few\\nyears.\\nThis article delves into the core themes that define the EV landscape in 2025. We will explore the\\ncutting-edgetechnological advancementsthat are propelling the industry forward, from breakthroughs\\nin battery technology to the expansion of ultra-fast charging networks. We?ll also address themarket\\nchallengesthat continue to shape the industry?s trajectory, including supply chain disruptions,\\nproduction bottlenecks, and the race to secure critical raw materials. Additionally, we?ll\\nexamineconsumer behavior, focusing on how shifting preferences and concerns are driving demand\\nfor EVs and influencing market dynamics. Finally, we?ll look ahead to thefuture outlook, speculating\\non what the next few years hold for the EV industry and how it aligns with global sustainability goals.\\nAs we navigate these themes, consider your role in this revolution. The choices we make\\ntoday?whether as consumers, policymakers, or industry leaders?will have a profound impact on the\\nfuture of transportation and the planet. How can you contribute to this transformative shift? What\\nsteps can you take to support the transition to sustainable mobility? As you read on, we invite you to\\nreflect on these questions and engage with the ongoing developments that are reshaping the world\\nof electric vehicles.\\nThe advancements in battery technology in 2025 have been a game-changer for the electric vehicle\\nindustry, with solid-state batteries at the forefront of this revolution. Solid-state batteries, known for\\ntheir higher energy density and safety compared to traditional lithium-ion batteries, have begun to\\nenter the market, promising to transform EV performance and cost dynamics. These batteries can\\noffer up to 50% more energy density, allowing for longer driving ranges and significantly shorter\\ncharging times. For example, companies likeQuantumScapeandSolid Powerhave made significantstrides in developing solid-state batteries, with QuantumScape?s latest prototypes demonstrating\\nthe potential to charge from 10% to 80% in just 15 minutes.\\nThe impact of these advancements on the EV industry is profound. With solid-state batteries\\nexpected to reduce the cost of EVs by eliminating the need for complex cooling systems and\\nincreasing battery longevity, the total cost of ownership for consumers is projected to decrease\\nsignificantly. According toBloombergNEF, these batteries could cut EV battery costs by nearly 40%\\nby 2030, making electric vehicles more accessible to a broader range of consumers.\\nThe growth'),\n",
       " Document(metadata={}, page_content='% in just 15 minutes.\\nThe impact of these advancements on the EV industry is profound. With solid-state batteries\\nexpected to reduce the cost of EVs by eliminating the need for complex cooling systems and\\nincreasing battery longevity, the total cost of ownership for consumers is projected to decrease\\nsignificantly. According toBloombergNEF, these batteries could cut EV battery costs by nearly 40%\\nby 2030, making electric vehicles more accessible to a broader range of consumers.\\nThe growth of EV charging infrastructure has been just as crucial as advancements in battery\\ntechnology. In 2025, the global EV charging network has expanded rapidly, with t')]"
      ]
     },
     "execution_count": 34,
     "metadata": {},
     "output_type": "execute_result"
    }
   ],
   "source": [
    "document_answer_gen"
   ]
  },
  {
   "cell_type": "code",
   "execution_count": 35,
   "id": "d88e8eee",
   "metadata": {},
   "outputs": [
    {
     "data": {
      "text/plain": [
       "3"
      ]
     },
     "execution_count": 35,
     "metadata": {},
     "output_type": "execute_result"
    }
   ],
   "source": [
    "len(document_answer_gen)"
   ]
  },
  {
   "cell_type": "code",
   "execution_count": 36,
   "id": "37131d6e",
   "metadata": {},
   "outputs": [
    {
     "data": {
      "text/plain": [
       "langchain_core.documents.base.Document"
      ]
     },
     "execution_count": 36,
     "metadata": {},
     "output_type": "execute_result"
    }
   ],
   "source": [
    "type(document_answer_gen[0])"
   ]
  },
  {
   "cell_type": "code",
   "execution_count": null,
   "id": "c5a46d08",
   "metadata": {},
   "outputs": [],
   "source": []
  },
  {
   "cell_type": "code",
   "execution_count": null,
   "id": "e4b55439",
   "metadata": {},
   "outputs": [],
   "source": []
  },
  {
   "cell_type": "code",
   "execution_count": null,
   "id": "1bc875f0",
   "metadata": {},
   "outputs": [],
   "source": []
  },
  {
   "cell_type": "code",
   "execution_count": null,
   "id": "c1fb81bf",
   "metadata": {},
   "outputs": [],
   "source": []
  },
  {
   "cell_type": "code",
   "execution_count": null,
   "id": "897d7bad",
   "metadata": {},
   "outputs": [],
   "source": []
  },
  {
   "cell_type": "code",
   "execution_count": null,
   "id": "30fbc5a4",
   "metadata": {},
   "outputs": [],
   "source": []
  },
  {
   "cell_type": "code",
   "execution_count": null,
   "id": "8e302eb5",
   "metadata": {},
   "outputs": [],
   "source": []
  },
  {
   "cell_type": "code",
   "execution_count": null,
   "id": "93082b08",
   "metadata": {},
   "outputs": [],
   "source": []
  },
  {
   "cell_type": "code",
   "execution_count": null,
   "id": "5a0d64c6",
   "metadata": {},
   "outputs": [],
   "source": [
    "# ev_report_generator.py\n",
    "\n",
    "import requests\n",
    "from bs4 import BeautifulSoup\n",
    "from datetime import datetime\n",
    "from transformers import pipeline\n",
    "\n",
    "# Optional: Use OpenAI or HuggingFace LLMs for generation\n",
    "\n",
    "class EVReportGenerator:\n",
    "    def _init_(self, query):\n",
    "        self.query = query\n",
    "        self.sources = []\n",
    "        self.sections = {\n",
    "            \"Executive Summary\": \"\",\n",
    "            \"Market Overview\": \"\",\n",
    "            \"Key Trends\": \"\",\n",
    "            \"Competitor Analysis\": \"\",\n",
    "            \"Strategic Recommendations\": \"\",\n",
    "            \"Appendices\": \"\"\n",
    "        }\n",
    "        self.summarizer = pipeline(\"summarization\")\n",
    "\n",
    "    def fetch_web_data(self, search_terms):\n",
    "        # Dummy static data for now\n",
    "        # Replace with real web scraping or API search later\n",
    "        example_urls = [\n",
    "            \"https://www.businessinsider.com/tesla-sales-slump-automakers-winning-gm-vw-byd-2025-4\",\n",
    "            \"https://chargeasy.org/posts/the-ev-revolution-in-2025-a-comprehensive-look-at-market-trends-innovations-and-challenges\"\n",
    "        ]\n",
    "        for url in example_urls:\n",
    "            try:\n",
    "                response = requests.get(url, timeout=10)\n",
    "                soup = BeautifulSoup(response.text, \"html.parser\")\n",
    "                paragraphs = [p.get_text() for p in soup.find_all(\"p\")[:10]]\n",
    "                self.sources.append(\"\\n\".join(paragraphs))\n",
    "            except Exception as e:\n",
    "                print(f\"Error fetching {url}: {e}\")\n",
    "\n",
    "    def analyze_and_summarize(self):\n",
    "        combined_text = \"\\n\\n\".join(self.sources)[:4000]\n",
    "        summary = self.summarizer(combined_text, max_length=500, min_length=100, do_sample=False)[0]['summary_text']\n",
    "        return summary\n",
    "\n",
    "    def fill_sections(self):\n",
    "        summary = self.analyze_and_summarize()\n",
    "        self.sections[\"Executive Summary\"] = summary\n",
    "        self.sections[\"Market Overview\"] = \"Global sales, regional insights, and forecasted trends.\"\n",
    "        self.sections[\"Key Trends\"] = \"Solid-state batteries, charging infrastructure, government incentives.\"\n",
    "        self.sections[\"Competitor Analysis\"] = \"Tesla, GM, BYD, VW, market share dynamics.\"\n",
    "        self.sections[\"Strategic Recommendations\"] = \"Expand to new markets, invest in battery tech, secure supply chain.\"\n",
    "        self.sections[\"Appendices\"] = \"Graph snapshots, financial tables, references.\"\n",
    "\n",
    "    def generate_report(self):\n",
    "        self.fetch_web_data(self.query)\n",
    "        self.fill_sections()\n",
    "\n",
    "        report = f\"Electric Vehicle Market Intelligence Report\\nGenerated on {datetime.now().strftime('%Y-%m-%d')}\\n\\n\"\n",
    "        for section, content in self.sections.items():\n",
    "            report += f\"## {section}\\n{content}\\n\\n\"\n",
    "        return report\n",
    "\n",
    "if _name_ == \"_main_\":\n",
    "    query = \"Generate a strategy intelligence report for the electric vehicle market and its key players.\"\n",
    "    generator = EVReportGenerator(query)\n",
    "    final_report = generator.generate_report()\n",
    "    print(final_report)"
   ]
  }
 ],
 "metadata": {
  "kernelspec": {
   "display_name": "venv",
   "language": "python",
   "name": "python3"
  },
  "language_info": {
   "codemirror_mode": {
    "name": "ipython",
    "version": 3
   },
   "file_extension": ".py",
   "mimetype": "text/x-python",
   "name": "python",
   "nbconvert_exporter": "python",
   "pygments_lexer": "ipython3",
   "version": "3.11.8"
  }
 },
 "nbformat": 4,
 "nbformat_minor": 5
}
